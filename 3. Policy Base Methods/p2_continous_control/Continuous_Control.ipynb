{
 "cells": [
  {
   "cell_type": "markdown",
   "metadata": {},
   "source": [
    "# Continuous Control\n",
    "\n",
    "---\n",
    "\n",
    "You are welcome to use this coding environment to train your agent for the project.  Follow the instructions below to get started!\n",
    "\n",
    "### 1. Start the Environment\n",
    "\n",
    "Run the next code cell to install a few packages.  This line will take a few minutes to run!"
   ]
  },
  {
   "cell_type": "code",
   "execution_count": 1,
   "metadata": {},
   "outputs": [
    {
     "name": "stdout",
     "output_type": "stream",
     "text": [
      "\u001b[31mtensorflow 1.7.1 has requirement numpy>=1.13.3, but you'll have numpy 1.12.1 which is incompatible.\u001b[0m\r\n",
      "\u001b[31mipython 6.5.0 has requirement prompt-toolkit<2.0.0,>=1.0.15, but you'll have prompt-toolkit 2.0.10 which is incompatible.\u001b[0m\r\n"
     ]
    }
   ],
   "source": [
    "!pip -q install ./python"
   ]
  },
  {
   "cell_type": "markdown",
   "metadata": {},
   "source": [
    "The environments corresponding to both versions of the environment are already saved in the Workspace and can be accessed at the file paths provided below.  \n",
    "\n",
    "Please select one of the two options below for loading the environment."
   ]
  },
  {
   "cell_type": "code",
   "execution_count": 2,
   "metadata": {},
   "outputs": [
    {
     "name": "stderr",
     "output_type": "stream",
     "text": [
      "INFO:unityagents:\n",
      "'Academy' started successfully!\n",
      "Unity Academy name: Academy\n",
      "        Number of Brains: 1\n",
      "        Number of External Brains : 1\n",
      "        Lesson number : 0\n",
      "        Reset Parameters :\n",
      "\t\tgoal_speed -> 1.0\n",
      "\t\tgoal_size -> 5.0\n",
      "Unity brain name: ReacherBrain\n",
      "        Number of Visual Observations (per agent): 0\n",
      "        Vector Observation space type: continuous\n",
      "        Vector Observation space size (per agent): 33\n",
      "        Number of stacked Vector Observation: 1\n",
      "        Vector Action space type: continuous\n",
      "        Vector Action space size (per agent): 4\n",
      "        Vector Action descriptions: , , , \n"
     ]
    }
   ],
   "source": [
    "from unityagents import UnityEnvironment\n",
    "import numpy as np\n",
    "\n",
    "# select this option to load version 1 (with a single agent) of the environment\n",
    "env = UnityEnvironment(file_name='/data/Reacher_One_Linux_NoVis/Reacher_One_Linux_NoVis.x86_64')\n",
    "\n",
    "# select this option to load version 2 (with 20 agents) of the environment\n",
    "# env = UnityEnvironment(file_name='/data/Reacher_Linux_NoVis/Reacher.x86_64')"
   ]
  },
  {
   "cell_type": "markdown",
   "metadata": {},
   "source": [
    "Environments contain **_brains_** which are responsible for deciding the actions of their associated agents. Here we check for the first brain available, and set it as the default brain we will be controlling from Python."
   ]
  },
  {
   "cell_type": "code",
   "execution_count": 3,
   "metadata": {},
   "outputs": [],
   "source": [
    "# get the default brain\n",
    "brain_name = env.brain_names[0]\n",
    "brain = env.brains[brain_name]"
   ]
  },
  {
   "cell_type": "markdown",
   "metadata": {},
   "source": [
    "### 2. Examine the State and Action Spaces\n",
    "\n",
    "Run the code cell below to print some information about the environment."
   ]
  },
  {
   "cell_type": "code",
   "execution_count": 4,
   "metadata": {},
   "outputs": [
    {
     "name": "stdout",
     "output_type": "stream",
     "text": [
      "Number of agents: 1\n",
      "Size of each action: 4\n",
      "There are 1 agents. Each observes a state with length: 33\n",
      "The state for the first agent looks like: [  0.00000000e+00  -4.00000000e+00   0.00000000e+00   1.00000000e+00\n",
      "  -0.00000000e+00  -0.00000000e+00  -4.37113883e-08   0.00000000e+00\n",
      "   0.00000000e+00   0.00000000e+00   0.00000000e+00   0.00000000e+00\n",
      "   0.00000000e+00   0.00000000e+00  -1.00000000e+01   0.00000000e+00\n",
      "   1.00000000e+00  -0.00000000e+00  -0.00000000e+00  -4.37113883e-08\n",
      "   0.00000000e+00   0.00000000e+00   0.00000000e+00   0.00000000e+00\n",
      "   0.00000000e+00   0.00000000e+00   5.75471878e+00  -1.00000000e+00\n",
      "   5.55726671e+00   0.00000000e+00   1.00000000e+00   0.00000000e+00\n",
      "  -1.68164849e-01]\n"
     ]
    }
   ],
   "source": [
    "# reset the environment\n",
    "env_info = env.reset(train_mode=True)[brain_name]\n",
    "\n",
    "# number of agents\n",
    "num_agents = len(env_info.agents)\n",
    "print('Number of agents:', num_agents)\n",
    "\n",
    "# size of each action\n",
    "action_size = brain.vector_action_space_size\n",
    "print('Size of each action:', action_size)\n",
    "\n",
    "# examine the state space \n",
    "states = env_info.vector_observations\n",
    "state_size = states.shape[1]\n",
    "print('There are {} agents. Each observes a state with length: {}'.format(states.shape[0], state_size))\n",
    "print('The state for the first agent looks like:', states[0])"
   ]
  },
  {
   "cell_type": "markdown",
   "metadata": {},
   "source": [
    "### 3. Take Random Actions in the Environment\n",
    "\n",
    "In the next code cell, you will learn how to use the Python API to control the agent and receive feedback from the environment.\n",
    "\n",
    "Note that **in this coding environment, you will not be able to watch the agents while they are training**, and you should set `train_mode=True` to restart the environment."
   ]
  },
  {
   "cell_type": "code",
   "execution_count": null,
   "metadata": {},
   "outputs": [],
   "source": [
    "env_info = env.reset(train_mode=True)[brain_name]      # reset the environment    \n",
    "states = env_info.vector_observations                  # get the current state (for each agent)\n",
    "scores = np.zeros(num_agents)                          # initialize the score (for each agent)\n",
    "while True:\n",
    "    actions = np.random.randn(num_agents, action_size) # select an action (for each agent)\n",
    "    actions = np.clip(actions, -1, 1)                  # all actions between -1 and 1\n",
    "    env_info = env.step(actions)[brain_name]           # send all actions to tne environment\n",
    "    next_states = env_info.vector_observations         # get next state (for each agent)\n",
    "    rewards = env_info.rewards                         # get reward (for each agent)\n",
    "    dones = env_info.local_done                        # see if episode finished\n",
    "    scores += env_info.rewards                         # update the score (for each agent)\n",
    "    states = next_states                               # roll over states to next time step\n",
    "    if np.any(dones):                                  # exit loop if episode finished\n",
    "        break\n",
    "print('Total score (averaged over agents) this episode: {}'.format(np.mean(scores)))"
   ]
  },
  {
   "cell_type": "markdown",
   "metadata": {},
   "source": [
    "When finished, you can close the environment."
   ]
  },
  {
   "cell_type": "code",
   "execution_count": null,
   "metadata": {},
   "outputs": [],
   "source": [
    "env.close()"
   ]
  },
  {
   "cell_type": "markdown",
   "metadata": {},
   "source": [
    "### 4. It's Your Turn!\n",
    "\n",
    "Now it's your turn to train your own agent to solve the environment!  A few **important notes**:\n",
    "- When training the environment, set `train_mode=True`, so that the line for resetting the environment looks like the following:\n",
    "```python\n",
    "env_info = env.reset(train_mode=True)[brain_name]\n",
    "```\n",
    "- To structure your work, you're welcome to work directly in this Jupyter notebook, or you might like to start over with a new file!  You can see the list of files in the workspace by clicking on **_Jupyter_** in the top left corner of the notebook.\n",
    "- In this coding environment, you will not be able to watch the agents while they are training.  However, **_after training the agents_**, you can download the saved model weights to watch the agents on your own machine! "
   ]
  },
  {
   "cell_type": "markdown",
   "metadata": {},
   "source": [
    "# 5. Initial Implementation "
   ]
  },
  {
   "cell_type": "code",
   "execution_count": 1,
   "metadata": {},
   "outputs": [
    {
     "name": "stdout",
     "output_type": "stream",
     "text": [
      "\u001b[31mtensorflow 1.7.1 has requirement numpy>=1.13.3, but you'll have numpy 1.12.1 which is incompatible.\u001b[0m\r\n",
      "\u001b[31mipython 6.5.0 has requirement prompt-toolkit<2.0.0,>=1.0.15, but you'll have prompt-toolkit 2.0.10 which is incompatible.\u001b[0m\r\n"
     ]
    }
   ],
   "source": [
    "!pip -q install ./python"
   ]
  },
  {
   "cell_type": "code",
   "execution_count": 2,
   "metadata": {},
   "outputs": [],
   "source": [
    "from unityagents import UnityEnvironment\n",
    "import numpy as np\n",
    "import torch\n",
    "from collections import deque\n",
    "import matplotlib.pyplot as plt\n",
    "\n",
    "from model import Actor, Critic\n",
    "from ddpg_agent import Agent, OUNoise, ReplayBuffer"
   ]
  },
  {
   "cell_type": "code",
   "execution_count": 3,
   "metadata": {},
   "outputs": [],
   "source": [
    "%matplotlib inline"
   ]
  },
  {
   "cell_type": "code",
   "execution_count": 4,
   "metadata": {},
   "outputs": [
    {
     "name": "stderr",
     "output_type": "stream",
     "text": [
      "INFO:unityagents:\n",
      "'Academy' started successfully!\n",
      "Unity Academy name: Academy\n",
      "        Number of Brains: 1\n",
      "        Number of External Brains : 1\n",
      "        Lesson number : 0\n",
      "        Reset Parameters :\n",
      "\t\tgoal_speed -> 1.0\n",
      "\t\tgoal_size -> 5.0\n",
      "Unity brain name: ReacherBrain\n",
      "        Number of Visual Observations (per agent): 0\n",
      "        Vector Observation space type: continuous\n",
      "        Vector Observation space size (per agent): 33\n",
      "        Number of stacked Vector Observation: 1\n",
      "        Vector Action space type: continuous\n",
      "        Vector Action space size (per agent): 4\n",
      "        Vector Action descriptions: , , , \n"
     ]
    }
   ],
   "source": [
    "##Instantiate environment\n",
    "# select this option to load version 1 (with a single agent) of the environment\n",
    "env = UnityEnvironment(file_name='/data/Reacher_One_Linux_NoVis/Reacher_One_Linux_NoVis.x86_64')\n",
    "\n",
    "# select this option to load version 2 (with 20 agents) of the environment\n",
    "# env = UnityEnvironment(file_name='/data/Reacher_Linux_NoVis/Reacher.x86_64')"
   ]
  },
  {
   "cell_type": "code",
   "execution_count": 5,
   "metadata": {},
   "outputs": [],
   "source": [
    "# get the default brain\n",
    "brain_name = env.brain_names[0]\n",
    "brain = env.brains[brain_name]"
   ]
  },
  {
   "cell_type": "code",
   "execution_count": 6,
   "metadata": {},
   "outputs": [
    {
     "name": "stdout",
     "output_type": "stream",
     "text": [
      "Number of agents: 1\n",
      "Size of each action: 4\n"
     ]
    }
   ],
   "source": [
    "##Get 'environment' variables\n",
    "env_info = env.reset(train_mode=True)[brain_name]\n",
    "\n",
    "# number of agents\n",
    "num_agents = len(env_info.agents)\n",
    "print('Number of agents:', num_agents)\n",
    "\n",
    "# size of each action\n",
    "action_size = brain.vector_action_space_size\n",
    "print('Size of each action:', action_size)\n",
    "\n",
    "# examine the state space \n",
    "states = env_info.vector_observations\n",
    "state_size = states.shape[1]"
   ]
  },
  {
   "cell_type": "code",
   "execution_count": 7,
   "metadata": {},
   "outputs": [],
   "source": [
    "##Instantiate Agent\n",
    "agent = Agent(state_size = state_size, action_size = action_size, random_seed=42)"
   ]
  },
  {
   "cell_type": "code",
   "execution_count": 8,
   "metadata": {},
   "outputs": [],
   "source": [
    "def ddpg_train(n_episodes=200, max_t=200, print_every=10):\n",
    "    scores_deque = deque(maxlen=print_every)\n",
    "    scores = []\n",
    "    reward_avg = []\n",
    "    \n",
    "    scores_avg = []\n",
    "    \n",
    "    for i_episode in range(1, n_episodes+1):\n",
    "        agent.reset()\n",
    "        \n",
    "        env_info = env.reset(train_mode=True)[brain_name]\n",
    "        state = env_info.vector_observations[0]\n",
    "        #states = env_info.vector_observations\n",
    "        score = 0\n",
    "        #score = np.zeros(num_agents)\n",
    "\n",
    "        reward_temp = 0\n",
    "        steps = 0\n",
    "        #print(i_episode)\n",
    "        \n",
    "        for t in range(max_t):\n",
    "            steps += 1\n",
    "            ##Determine action to take with clipping\n",
    "            action = agent.act(state, add_noise=True)\n",
    "            #actions = agent.act(states, add_noise=False)\n",
    "            \n",
    "            ##Execute action\n",
    "            env_info = env.step(action)[brain_name]\n",
    "            #env_info = env.step(actions)[brain_name]\n",
    "            \n",
    "            ##Get results of action\n",
    "            next_state = env_info.vector_observations[0]\n",
    "            reward = env_info.rewards[0]                  \n",
    "            done = env_info.local_done[0]  \n",
    "            #next_states = env_info.vector_observations\n",
    "            #rewards = env_info.rewards\n",
    "            #dones = env_info.local_done\n",
    "        \n",
    "            ##Update agent\n",
    "            agent.step(state, action, reward, next_state, done)\n",
    "            #agent.step(states, actions, rewards, next_states, dones)\n",
    "            \n",
    "            ##Save scores\n",
    "            score += reward\n",
    "            #score += env_info.rewards\n",
    "            \n",
    "            state = next_state\n",
    "            #states = next_states\n",
    "            \n",
    "            #print(reward)\n",
    "            \n",
    "            if done:\n",
    "                break\n",
    "            #if np.any(dones):\n",
    "            #    break\n",
    "        \n",
    "        print(reward_temp)\n",
    "        #print(type(reward_avg))\n",
    "        print('Score: ' + str(score))\n",
    "        reward_avg.append(score / steps)\n",
    "        \n",
    "        #reward_avg += [sum(reward_temp) / len(reward_temp)]\n",
    "        \n",
    "        scores_deque.append(score)\n",
    "        scores.append(score)\n",
    "        \n",
    "        print('\\rEpisode {}\\tAverage Score: {:.2f}'.format(i_episode, np.mean(scores_deque)), end=\"\")\n",
    "        torch.save(agent.actor_local.state_dict(), 'checkpoint_actor.pth')\n",
    "        torch.save(agent.critic_local.state_dict(), 'checkpoint_critic.pth')\n",
    "        if i_episode % print_every == 0:\n",
    "            print('\\rEpisode {}\\tAverage Score: {:.2f}'.format(i_episode, np.mean(scores_deque)))\n",
    "        \n",
    "        scores_avg.append(np.mean(scores_deque))\n",
    "        print(reward_avg)\n",
    "\n",
    "    return scores, reward_avg, scores_avg"
   ]
  },
  {
   "cell_type": "code",
   "execution_count": 9,
   "metadata": {
    "scrolled": true
   },
   "outputs": [
    {
     "name": "stdout",
     "output_type": "stream",
     "text": [
      "0\n",
      "Score: 0.0\n",
      "Episode 1\tAverage Score: 0.00[0.0]\n"
     ]
    },
    {
     "name": "stderr",
     "output_type": "stream",
     "text": [
      "/home/workspace/ddpg_agent.py:97: UserWarning: torch.nn.utils.clip_grad_norm is now deprecated in favor of torch.nn.utils.clip_grad_norm_.\n",
      "  torch.nn.utils.clip_grad_norm(self.critic_local.parameters(), 1)\n"
     ]
    },
    {
     "name": "stdout",
     "output_type": "stream",
     "text": [
      "0\n",
      "Score: 0.0\n",
      "Episode 2\tAverage Score: 0.00[0.0, 0.0]\n",
      "0\n",
      "Score: 0.0\n",
      "Episode 3\tAverage Score: 0.00[0.0, 0.0, 0.0]\n",
      "0\n",
      "Score: 0.0\n",
      "Episode 4\tAverage Score: 0.00[0.0, 0.0, 0.0, 0.0]\n",
      "0\n",
      "Score: 0.0\n",
      "Episode 5\tAverage Score: 0.00[0.0, 0.0, 0.0, 0.0, 0.0]\n",
      "0\n",
      "Score: 0.3999999910593033\n",
      "Episode 6\tAverage Score: 0.07[0.0, 0.0, 0.0, 0.0, 0.0, 0.001333333303531011]\n",
      "0\n",
      "Score: 0.0\n",
      "Episode 7\tAverage Score: 0.06[0.0, 0.0, 0.0, 0.0, 0.0, 0.001333333303531011, 0.0]\n",
      "0\n",
      "Score: 0.0\n",
      "Episode 8\tAverage Score: 0.05[0.0, 0.0, 0.0, 0.0, 0.0, 0.001333333303531011, 0.0, 0.0]\n",
      "0\n",
      "Score: 0.2899999935179949\n",
      "Episode 9\tAverage Score: 0.08[0.0, 0.0, 0.0, 0.0, 0.0, 0.001333333303531011, 0.0, 0.0, 0.0009666666450599829]\n",
      "0\n",
      "Score: 0.20999999530613422\n",
      "Episode 10\tAverage Score: 0.09[0.0, 0.0, 0.0, 0.0, 0.0, 0.001333333303531011, 0.0, 0.0, 0.0009666666450599829, 0.0006999999843537808]\n",
      "0\n",
      "Score: 0.0\n",
      "Episode 11\tAverage Score: 0.08[0.0, 0.0, 0.0, 0.0, 0.0, 0.001333333303531011, 0.0, 0.0, 0.0009666666450599829, 0.0006999999843537808, 0.0]\n",
      "0\n",
      "Score: 0.1699999962002039\n",
      "Episode 12\tAverage Score: 0.09[0.0, 0.0, 0.0, 0.0, 0.0, 0.001333333303531011, 0.0, 0.0, 0.0009666666450599829, 0.0006999999843537808, 0.0, 0.0005666666540006796]\n",
      "0\n",
      "Score: 0.5199999883770943\n",
      "Episode 13\tAverage Score: 0.12[0.0, 0.0, 0.0, 0.0, 0.0, 0.001333333303531011, 0.0, 0.0, 0.0009666666450599829, 0.0006999999843537808, 0.0, 0.0005666666540006796, 0.0017333332945903143]\n",
      "0\n",
      "Score: 0.17999999597668648\n",
      "Episode 14\tAverage Score: 0.13[0.0, 0.0, 0.0, 0.0, 0.0, 0.001333333303531011, 0.0, 0.0, 0.0009666666450599829, 0.0006999999843537808, 0.0, 0.0005666666540006796, 0.0017333332945903143, 0.0005999999865889549]\n",
      "0\n",
      "Score: 0.0\n",
      "Episode 15\tAverage Score: 0.12[0.0, 0.0, 0.0, 0.0, 0.0, 0.001333333303531011, 0.0, 0.0, 0.0009666666450599829, 0.0006999999843537808, 0.0, 0.0005666666540006796, 0.0017333332945903143, 0.0005999999865889549, 0.0]\n",
      "0\n",
      "Score: 0.20999999530613422\n",
      "Episode 16\tAverage Score: 0.12[0.0, 0.0, 0.0, 0.0, 0.0, 0.001333333303531011, 0.0, 0.0, 0.0009666666450599829, 0.0006999999843537808, 0.0, 0.0005666666540006796, 0.0017333332945903143, 0.0005999999865889549, 0.0, 0.0006999999843537808]\n",
      "0\n",
      "Score: 0.1099999975413084\n",
      "Episode 17\tAverage Score: 0.12[0.0, 0.0, 0.0, 0.0, 0.0, 0.001333333303531011, 0.0, 0.0, 0.0009666666450599829, 0.0006999999843537808, 0.0, 0.0005666666540006796, 0.0017333332945903143, 0.0005999999865889549, 0.0, 0.0006999999843537808, 0.000366666658471028]\n",
      "0\n",
      "Score: 0.6199999861419201\n",
      "Episode 18\tAverage Score: 0.15[0.0, 0.0, 0.0, 0.0, 0.0, 0.001333333303531011, 0.0, 0.0, 0.0009666666450599829, 0.0006999999843537808, 0.0, 0.0005666666540006796, 0.0017333332945903143, 0.0005999999865889549, 0.0, 0.0006999999843537808, 0.000366666658471028, 0.002066666620473067]\n",
      "0\n",
      "Score: 0.17999999597668648\n",
      "Episode 19\tAverage Score: 0.15[0.0, 0.0, 0.0, 0.0, 0.0, 0.001333333303531011, 0.0, 0.0, 0.0009666666450599829, 0.0006999999843537808, 0.0, 0.0005666666540006796, 0.0017333332945903143, 0.0005999999865889549, 0.0, 0.0006999999843537808, 0.000366666658471028, 0.002066666620473067, 0.0005999999865889549]\n",
      "0\n",
      "Score: 0.14999999664723873\n",
      "Episode 20\tAverage Score: 0.15[0.0, 0.0, 0.0, 0.0, 0.0, 0.001333333303531011, 0.0, 0.0, 0.0009666666450599829, 0.0006999999843537808, 0.0, 0.0005666666540006796, 0.0017333332945903143, 0.0005999999865889549, 0.0, 0.0006999999843537808, 0.000366666658471028, 0.002066666620473067, 0.0005999999865889549, 0.0004999999888241291]\n",
      "0\n",
      "Score: 0.24999999441206455\n",
      "Episode 21\tAverage Score: 0.16[0.0, 0.0, 0.0, 0.0, 0.0, 0.001333333303531011, 0.0, 0.0, 0.0009666666450599829, 0.0006999999843537808, 0.0, 0.0005666666540006796, 0.0017333332945903143, 0.0005999999865889549, 0.0, 0.0006999999843537808, 0.000366666658471028, 0.002066666620473067, 0.0005999999865889549, 0.0004999999888241291, 0.0008333333147068819]\n",
      "0\n",
      "Score: 0.0\n",
      "Episode 22\tAverage Score: 0.15[0.0, 0.0, 0.0, 0.0, 0.0, 0.001333333303531011, 0.0, 0.0, 0.0009666666450599829, 0.0006999999843537808, 0.0, 0.0005666666540006796, 0.0017333332945903143, 0.0005999999865889549, 0.0, 0.0006999999843537808, 0.000366666658471028, 0.002066666620473067, 0.0005999999865889549, 0.0004999999888241291, 0.0008333333147068819, 0.0]\n",
      "0\n",
      "Score: 0.05999999865889549\n",
      "Episode 23\tAverage Score: 0.15[0.0, 0.0, 0.0, 0.0, 0.0, 0.001333333303531011, 0.0, 0.0, 0.0009666666450599829, 0.0006999999843537808, 0.0, 0.0005666666540006796, 0.0017333332945903143, 0.0005999999865889549, 0.0, 0.0006999999843537808, 0.000366666658471028, 0.002066666620473067, 0.0005999999865889549, 0.0004999999888241291, 0.0008333333147068819, 0.0, 0.00019999999552965163]\n",
      "0\n",
      "Score: 0.0\n",
      "Episode 24\tAverage Score: 0.14[0.0, 0.0, 0.0, 0.0, 0.0, 0.001333333303531011, 0.0, 0.0, 0.0009666666450599829, 0.0006999999843537808, 0.0, 0.0005666666540006796, 0.0017333332945903143, 0.0005999999865889549, 0.0, 0.0006999999843537808, 0.000366666658471028, 0.002066666620473067, 0.0005999999865889549, 0.0004999999888241291, 0.0008333333147068819, 0.0, 0.00019999999552965163, 0.0]\n",
      "0\n",
      "Score: 0.09999999776482582\n",
      "Episode 25\tAverage Score: 0.14[0.0, 0.0, 0.0, 0.0, 0.0, 0.001333333303531011, 0.0, 0.0, 0.0009666666450599829, 0.0006999999843537808, 0.0, 0.0005666666540006796, 0.0017333332945903143, 0.0005999999865889549, 0.0, 0.0006999999843537808, 0.000366666658471028, 0.002066666620473067, 0.0005999999865889549, 0.0004999999888241291, 0.0008333333147068819, 0.0, 0.00019999999552965163, 0.0, 0.00033333332588275275]\n",
      "0\n",
      "Score: 0.4599999897181988\n",
      "Episode 26\tAverage Score: 0.15[0.0, 0.0, 0.0, 0.0, 0.0, 0.001333333303531011, 0.0, 0.0, 0.0009666666450599829, 0.0006999999843537808, 0.0, 0.0005666666540006796, 0.0017333332945903143, 0.0005999999865889549, 0.0, 0.0006999999843537808, 0.000366666658471028, 0.002066666620473067, 0.0005999999865889549, 0.0004999999888241291, 0.0008333333147068819, 0.0, 0.00019999999552965163, 0.0, 0.00033333332588275275, 0.0015333332990606625]\n",
      "0\n",
      "Score: 0.8199999816715717\n",
      "Episode 27\tAverage Score: 0.18[0.0, 0.0, 0.0, 0.0, 0.0, 0.001333333303531011, 0.0, 0.0, 0.0009666666450599829, 0.0006999999843537808, 0.0, 0.0005666666540006796, 0.0017333332945903143, 0.0005999999865889549, 0.0, 0.0006999999843537808, 0.000366666658471028, 0.002066666620473067, 0.0005999999865889549, 0.0004999999888241291, 0.0008333333147068819, 0.0, 0.00019999999552965163, 0.0, 0.00033333332588275275, 0.0015333332990606625, 0.0027333332722385725]\n",
      "0\n",
      "Score: 0.4999999888241291\n",
      "Episode 28\tAverage Score: 0.19[0.0, 0.0, 0.0, 0.0, 0.0, 0.001333333303531011, 0.0, 0.0, 0.0009666666450599829, 0.0006999999843537808, 0.0, 0.0005666666540006796, 0.0017333332945903143, 0.0005999999865889549, 0.0, 0.0006999999843537808, 0.000366666658471028, 0.002066666620473067, 0.0005999999865889549, 0.0004999999888241291, 0.0008333333147068819, 0.0, 0.00019999999552965163, 0.0, 0.00033333332588275275, 0.0015333332990606625, 0.0027333332722385725, 0.0016666666294137638]\n",
      "0\n",
      "Score: 0.2799999937415123\n",
      "Episode 29\tAverage Score: 0.19[0.0, 0.0, 0.0, 0.0, 0.0, 0.001333333303531011, 0.0, 0.0, 0.0009666666450599829, 0.0006999999843537808, 0.0, 0.0005666666540006796, 0.0017333332945903143, 0.0005999999865889549, 0.0, 0.0006999999843537808, 0.000366666658471028, 0.002066666620473067, 0.0005999999865889549, 0.0004999999888241291, 0.0008333333147068819, 0.0, 0.00019999999552965163, 0.0, 0.00033333332588275275, 0.0015333332990606625, 0.0027333332722385725, 0.0016666666294137638, 0.0009333333124717076]\n",
      "0\n",
      "Score: 0.0\n",
      "Episode 30\tAverage Score: 0.18[0.0, 0.0, 0.0, 0.0, 0.0, 0.001333333303531011, 0.0, 0.0, 0.0009666666450599829, 0.0006999999843537808, 0.0, 0.0005666666540006796, 0.0017333332945903143, 0.0005999999865889549, 0.0, 0.0006999999843537808, 0.000366666658471028, 0.002066666620473067, 0.0005999999865889549, 0.0004999999888241291, 0.0008333333147068819, 0.0, 0.00019999999552965163, 0.0, 0.00033333332588275275, 0.0015333332990606625, 0.0027333332722385725, 0.0016666666294137638, 0.0009333333124717076, 0.0]\n",
      "0\n",
      "Score: 0.0\n",
      "Episode 31\tAverage Score: 0.18[0.0, 0.0, 0.0, 0.0, 0.0, 0.001333333303531011, 0.0, 0.0, 0.0009666666450599829, 0.0006999999843537808, 0.0, 0.0005666666540006796, 0.0017333332945903143, 0.0005999999865889549, 0.0, 0.0006999999843537808, 0.000366666658471028, 0.002066666620473067, 0.0005999999865889549, 0.0004999999888241291, 0.0008333333147068819, 0.0, 0.00019999999552965163, 0.0, 0.00033333332588275275, 0.0015333332990606625, 0.0027333332722385725, 0.0016666666294137638, 0.0009333333124717076, 0.0, 0.0]\n",
      "0\n",
      "Score: 0.0\n",
      "Episode 32\tAverage Score: 0.17[0.0, 0.0, 0.0, 0.0, 0.0, 0.001333333303531011, 0.0, 0.0, 0.0009666666450599829, 0.0006999999843537808, 0.0, 0.0005666666540006796, 0.0017333332945903143, 0.0005999999865889549, 0.0, 0.0006999999843537808, 0.000366666658471028, 0.002066666620473067, 0.0005999999865889549, 0.0004999999888241291, 0.0008333333147068819, 0.0, 0.00019999999552965163, 0.0, 0.00033333332588275275, 0.0015333332990606625, 0.0027333332722385725, 0.0016666666294137638, 0.0009333333124717076, 0.0, 0.0, 0.0]\n",
      "0\n",
      "Score: 0.05999999865889549\n",
      "Episode 33\tAverage Score: 0.17[0.0, 0.0, 0.0, 0.0, 0.0, 0.001333333303531011, 0.0, 0.0, 0.0009666666450599829, 0.0006999999843537808, 0.0, 0.0005666666540006796, 0.0017333332945903143, 0.0005999999865889549, 0.0, 0.0006999999843537808, 0.000366666658471028, 0.002066666620473067, 0.0005999999865889549, 0.0004999999888241291, 0.0008333333147068819, 0.0, 0.00019999999552965163, 0.0, 0.00033333332588275275, 0.0015333332990606625, 0.0027333332722385725, 0.0016666666294137638, 0.0009333333124717076, 0.0, 0.0, 0.0, 0.00019999999552965163]\n",
      "0\n",
      "Score: 0.029999999329447746\n",
      "Episode 34\tAverage Score: 0.16[0.0, 0.0, 0.0, 0.0, 0.0, 0.001333333303531011, 0.0, 0.0, 0.0009666666450599829, 0.0006999999843537808, 0.0, 0.0005666666540006796, 0.0017333332945903143, 0.0005999999865889549, 0.0, 0.0006999999843537808, 0.000366666658471028, 0.002066666620473067, 0.0005999999865889549, 0.0004999999888241291, 0.0008333333147068819, 0.0, 0.00019999999552965163, 0.0, 0.00033333332588275275, 0.0015333332990606625, 0.0027333332722385725, 0.0016666666294137638, 0.0009333333124717076, 0.0, 0.0, 0.0, 0.00019999999552965163, 9.999999776482581e-05]\n",
      "0\n",
      "Score: 0.19999999552965164\n",
      "Episode 35\tAverage Score: 0.17[0.0, 0.0, 0.0, 0.0, 0.0, 0.001333333303531011, 0.0, 0.0, 0.0009666666450599829, 0.0006999999843537808, 0.0, 0.0005666666540006796, 0.0017333332945903143, 0.0005999999865889549, 0.0, 0.0006999999843537808, 0.000366666658471028, 0.002066666620473067, 0.0005999999865889549, 0.0004999999888241291, 0.0008333333147068819, 0.0, 0.00019999999552965163, 0.0, 0.00033333332588275275, 0.0015333332990606625, 0.0027333332722385725, 0.0016666666294137638, 0.0009333333124717076, 0.0, 0.0, 0.0, 0.00019999999552965163, 9.999999776482581e-05, 0.0006666666517655055]\n",
      "0\n",
      "Score: 0.0\n",
      "Episode 36\tAverage Score: 0.16[0.0, 0.0, 0.0, 0.0, 0.0, 0.001333333303531011, 0.0, 0.0, 0.0009666666450599829, 0.0006999999843537808, 0.0, 0.0005666666540006796, 0.0017333332945903143, 0.0005999999865889549, 0.0, 0.0006999999843537808, 0.000366666658471028, 0.002066666620473067, 0.0005999999865889549, 0.0004999999888241291, 0.0008333333147068819, 0.0, 0.00019999999552965163, 0.0, 0.00033333332588275275, 0.0015333332990606625, 0.0027333332722385725, 0.0016666666294137638, 0.0009333333124717076, 0.0, 0.0, 0.0, 0.00019999999552965163, 9.999999776482581e-05, 0.0006666666517655055, 0.0]\n",
      "0\n",
      "Score: 0.1599999964237213\n",
      "Episode 37\tAverage Score: 0.16[0.0, 0.0, 0.0, 0.0, 0.0, 0.001333333303531011, 0.0, 0.0, 0.0009666666450599829, 0.0006999999843537808, 0.0, 0.0005666666540006796, 0.0017333332945903143, 0.0005999999865889549, 0.0, 0.0006999999843537808, 0.000366666658471028, 0.002066666620473067, 0.0005999999865889549, 0.0004999999888241291, 0.0008333333147068819, 0.0, 0.00019999999552965163, 0.0, 0.00033333332588275275, 0.0015333332990606625, 0.0027333332722385725, 0.0016666666294137638, 0.0009333333124717076, 0.0, 0.0, 0.0, 0.00019999999552965163, 9.999999776482581e-05, 0.0006666666517655055, 0.0, 0.0005333333214124044]\n",
      "0\n",
      "Score: 0.09999999776482582\n",
      "Episode 38\tAverage Score: 0.16[0.0, 0.0, 0.0, 0.0, 0.0, 0.001333333303531011, 0.0, 0.0, 0.0009666666450599829, 0.0006999999843537808, 0.0, 0.0005666666540006796, 0.0017333332945903143, 0.0005999999865889549, 0.0, 0.0006999999843537808, 0.000366666658471028, 0.002066666620473067, 0.0005999999865889549, 0.0004999999888241291, 0.0008333333147068819, 0.0, 0.00019999999552965163, 0.0, 0.00033333332588275275, 0.0015333332990606625, 0.0027333332722385725, 0.0016666666294137638, 0.0009333333124717076, 0.0, 0.0, 0.0, 0.00019999999552965163, 9.999999776482581e-05, 0.0006666666517655055, 0.0, 0.0005333333214124044, 0.00033333332588275275]\n",
      "0\n",
      "Score: 0.14999999664723873\n",
      "Episode 39\tAverage Score: 0.16[0.0, 0.0, 0.0, 0.0, 0.0, 0.001333333303531011, 0.0, 0.0, 0.0009666666450599829, 0.0006999999843537808, 0.0, 0.0005666666540006796, 0.0017333332945903143, 0.0005999999865889549, 0.0, 0.0006999999843537808, 0.000366666658471028, 0.002066666620473067, 0.0005999999865889549, 0.0004999999888241291, 0.0008333333147068819, 0.0, 0.00019999999552965163, 0.0, 0.00033333332588275275, 0.0015333332990606625, 0.0027333332722385725, 0.0016666666294137638, 0.0009333333124717076, 0.0, 0.0, 0.0, 0.00019999999552965163, 9.999999776482581e-05, 0.0006666666517655055, 0.0, 0.0005333333214124044, 0.00033333332588275275, 0.0004999999888241291]\n",
      "0\n",
      "Score: 0.2799999937415123\n",
      "Episode 40\tAverage Score: 0.16[0.0, 0.0, 0.0, 0.0, 0.0, 0.001333333303531011, 0.0, 0.0, 0.0009666666450599829, 0.0006999999843537808, 0.0, 0.0005666666540006796, 0.0017333332945903143, 0.0005999999865889549, 0.0, 0.0006999999843537808, 0.000366666658471028, 0.002066666620473067, 0.0005999999865889549, 0.0004999999888241291, 0.0008333333147068819, 0.0, 0.00019999999552965163, 0.0, 0.00033333332588275275, 0.0015333332990606625, 0.0027333332722385725, 0.0016666666294137638, 0.0009333333124717076, 0.0, 0.0, 0.0, 0.00019999999552965163, 9.999999776482581e-05, 0.0006666666517655055, 0.0, 0.0005333333214124044, 0.00033333332588275275, 0.0004999999888241291, 0.0009333333124717076]\n",
      "0\n",
      "Score: 0.24999999441206455\n",
      "Episode 41\tAverage Score: 0.16[0.0, 0.0, 0.0, 0.0, 0.0, 0.001333333303531011, 0.0, 0.0, 0.0009666666450599829, 0.0006999999843537808, 0.0, 0.0005666666540006796, 0.0017333332945903143, 0.0005999999865889549, 0.0, 0.0006999999843537808, 0.000366666658471028, 0.002066666620473067, 0.0005999999865889549, 0.0004999999888241291, 0.0008333333147068819, 0.0, 0.00019999999552965163, 0.0, 0.00033333332588275275, 0.0015333332990606625, 0.0027333332722385725, 0.0016666666294137638, 0.0009333333124717076, 0.0, 0.0, 0.0, 0.00019999999552965163, 9.999999776482581e-05, 0.0006666666517655055, 0.0, 0.0005333333214124044, 0.00033333332588275275, 0.0004999999888241291, 0.0009333333124717076, 0.0008333333147068819]\n"
     ]
    },
    {
     "ename": "KeyboardInterrupt",
     "evalue": "",
     "output_type": "error",
     "traceback": [
      "\u001b[0;31m---------------------------------------------------------------------------\u001b[0m",
      "\u001b[0;31mKeyboardInterrupt\u001b[0m                         Traceback (most recent call last)",
      "\u001b[0;32m<ipython-input-9-226b7a712a8a>\u001b[0m in \u001b[0;36m<module>\u001b[0;34m()\u001b[0m\n\u001b[0;32m----> 1\u001b[0;31m \u001b[0mscores\u001b[0m\u001b[0;34m,\u001b[0m \u001b[0mreward_avg\u001b[0m\u001b[0;34m,\u001b[0m \u001b[0mscores_avg\u001b[0m \u001b[0;34m=\u001b[0m \u001b[0mddpg_train\u001b[0m\u001b[0;34m(\u001b[0m\u001b[0mn_episodes\u001b[0m\u001b[0;34m=\u001b[0m\u001b[0;36m500\u001b[0m\u001b[0;34m,\u001b[0m \u001b[0mmax_t\u001b[0m\u001b[0;34m=\u001b[0m\u001b[0;36m300\u001b[0m\u001b[0;34m,\u001b[0m \u001b[0mprint_every\u001b[0m\u001b[0;34m=\u001b[0m\u001b[0;36m50\u001b[0m\u001b[0;34m)\u001b[0m\u001b[0;34m\u001b[0m\u001b[0m\n\u001b[0m",
      "\u001b[0;32m<ipython-input-8-c31c82256cda>\u001b[0m in \u001b[0;36mddpg_train\u001b[0;34m(n_episodes, max_t, print_every)\u001b[0m\n\u001b[1;32m     38\u001b[0m \u001b[0;34m\u001b[0m\u001b[0m\n\u001b[1;32m     39\u001b[0m             \u001b[0;31m##Update agent\u001b[0m\u001b[0;34m\u001b[0m\u001b[0;34m\u001b[0m\u001b[0m\n\u001b[0;32m---> 40\u001b[0;31m             \u001b[0magent\u001b[0m\u001b[0;34m.\u001b[0m\u001b[0mstep\u001b[0m\u001b[0;34m(\u001b[0m\u001b[0mstate\u001b[0m\u001b[0;34m,\u001b[0m \u001b[0maction\u001b[0m\u001b[0;34m,\u001b[0m \u001b[0mreward\u001b[0m\u001b[0;34m,\u001b[0m \u001b[0mnext_state\u001b[0m\u001b[0;34m,\u001b[0m \u001b[0mdone\u001b[0m\u001b[0;34m)\u001b[0m\u001b[0;34m\u001b[0m\u001b[0m\n\u001b[0m\u001b[1;32m     41\u001b[0m             \u001b[0;31m#agent.step(states, actions, rewards, next_states, dones)\u001b[0m\u001b[0;34m\u001b[0m\u001b[0;34m\u001b[0m\u001b[0m\n\u001b[1;32m     42\u001b[0m \u001b[0;34m\u001b[0m\u001b[0m\n",
      "\u001b[0;32m/home/workspace/ddpg_agent.py\u001b[0m in \u001b[0;36mstep\u001b[0;34m(self, state, action, reward, next_state, done)\u001b[0m\n\u001b[1;32m     51\u001b[0m         \u001b[0;32mif\u001b[0m \u001b[0mlen\u001b[0m\u001b[0;34m(\u001b[0m\u001b[0mself\u001b[0m\u001b[0;34m.\u001b[0m\u001b[0mmemory\u001b[0m\u001b[0;34m)\u001b[0m \u001b[0;34m>\u001b[0m \u001b[0mBATCH_SIZE\u001b[0m\u001b[0;34m:\u001b[0m\u001b[0;34m\u001b[0m\u001b[0m\n\u001b[1;32m     52\u001b[0m             \u001b[0mexperiences\u001b[0m \u001b[0;34m=\u001b[0m \u001b[0mself\u001b[0m\u001b[0;34m.\u001b[0m\u001b[0mmemory\u001b[0m\u001b[0;34m.\u001b[0m\u001b[0msample\u001b[0m\u001b[0;34m(\u001b[0m\u001b[0;34m)\u001b[0m\u001b[0;34m\u001b[0m\u001b[0m\n\u001b[0;32m---> 53\u001b[0;31m             \u001b[0mself\u001b[0m\u001b[0;34m.\u001b[0m\u001b[0mlearn\u001b[0m\u001b[0;34m(\u001b[0m\u001b[0mexperiences\u001b[0m\u001b[0;34m,\u001b[0m \u001b[0mGAMMA\u001b[0m\u001b[0;34m)\u001b[0m\u001b[0;34m\u001b[0m\u001b[0m\n\u001b[0m\u001b[1;32m     54\u001b[0m \u001b[0;34m\u001b[0m\u001b[0m\n\u001b[1;32m     55\u001b[0m \u001b[0;34m\u001b[0m\u001b[0m\n",
      "\u001b[0;32m/home/workspace/ddpg_agent.py\u001b[0m in \u001b[0;36mlearn\u001b[0;34m(self, experiences, gamma)\u001b[0m\n\u001b[1;32m     94\u001b[0m         \u001b[0;31m## Minimise loss\u001b[0m\u001b[0;34m\u001b[0m\u001b[0;34m\u001b[0m\u001b[0m\n\u001b[1;32m     95\u001b[0m         \u001b[0mself\u001b[0m\u001b[0;34m.\u001b[0m\u001b[0mcritic_optimizer\u001b[0m\u001b[0;34m.\u001b[0m\u001b[0mzero_grad\u001b[0m\u001b[0;34m(\u001b[0m\u001b[0;34m)\u001b[0m\u001b[0;34m\u001b[0m\u001b[0m\n\u001b[0;32m---> 96\u001b[0;31m         \u001b[0mcritic_loss\u001b[0m\u001b[0;34m.\u001b[0m\u001b[0mbackward\u001b[0m\u001b[0;34m(\u001b[0m\u001b[0;34m)\u001b[0m\u001b[0;34m\u001b[0m\u001b[0m\n\u001b[0m\u001b[1;32m     97\u001b[0m         \u001b[0mtorch\u001b[0m\u001b[0;34m.\u001b[0m\u001b[0mnn\u001b[0m\u001b[0;34m.\u001b[0m\u001b[0mutils\u001b[0m\u001b[0;34m.\u001b[0m\u001b[0mclip_grad_norm\u001b[0m\u001b[0;34m(\u001b[0m\u001b[0mself\u001b[0m\u001b[0;34m.\u001b[0m\u001b[0mcritic_local\u001b[0m\u001b[0;34m.\u001b[0m\u001b[0mparameters\u001b[0m\u001b[0;34m(\u001b[0m\u001b[0;34m)\u001b[0m\u001b[0;34m,\u001b[0m \u001b[0;36m1\u001b[0m\u001b[0;34m)\u001b[0m\u001b[0;34m\u001b[0m\u001b[0m\n\u001b[1;32m     98\u001b[0m         \u001b[0mself\u001b[0m\u001b[0;34m.\u001b[0m\u001b[0mcritic_optimizer\u001b[0m\u001b[0;34m.\u001b[0m\u001b[0mstep\u001b[0m\u001b[0;34m(\u001b[0m\u001b[0;34m)\u001b[0m\u001b[0;34m\u001b[0m\u001b[0m\n",
      "\u001b[0;32m/opt/conda/lib/python3.6/site-packages/torch/tensor.py\u001b[0m in \u001b[0;36mbackward\u001b[0;34m(self, gradient, retain_graph, create_graph)\u001b[0m\n\u001b[1;32m     91\u001b[0m                 \u001b[0mproducts\u001b[0m\u001b[0;34m.\u001b[0m \u001b[0mDefaults\u001b[0m \u001b[0mto\u001b[0m\u001b[0;31m \u001b[0m\u001b[0;31m`\u001b[0m\u001b[0;31m`\u001b[0m\u001b[0;32mFalse\u001b[0m\u001b[0;31m`\u001b[0m\u001b[0;31m`\u001b[0m\u001b[0;34m.\u001b[0m\u001b[0;34m\u001b[0m\u001b[0m\n\u001b[1;32m     92\u001b[0m         \"\"\"\n\u001b[0;32m---> 93\u001b[0;31m         \u001b[0mtorch\u001b[0m\u001b[0;34m.\u001b[0m\u001b[0mautograd\u001b[0m\u001b[0;34m.\u001b[0m\u001b[0mbackward\u001b[0m\u001b[0;34m(\u001b[0m\u001b[0mself\u001b[0m\u001b[0;34m,\u001b[0m \u001b[0mgradient\u001b[0m\u001b[0;34m,\u001b[0m \u001b[0mretain_graph\u001b[0m\u001b[0;34m,\u001b[0m \u001b[0mcreate_graph\u001b[0m\u001b[0;34m)\u001b[0m\u001b[0;34m\u001b[0m\u001b[0m\n\u001b[0m\u001b[1;32m     94\u001b[0m \u001b[0;34m\u001b[0m\u001b[0m\n\u001b[1;32m     95\u001b[0m     \u001b[0;32mdef\u001b[0m \u001b[0mregister_hook\u001b[0m\u001b[0;34m(\u001b[0m\u001b[0mself\u001b[0m\u001b[0;34m,\u001b[0m \u001b[0mhook\u001b[0m\u001b[0;34m)\u001b[0m\u001b[0;34m:\u001b[0m\u001b[0;34m\u001b[0m\u001b[0m\n",
      "\u001b[0;32m/opt/conda/lib/python3.6/site-packages/torch/autograd/__init__.py\u001b[0m in \u001b[0;36mbackward\u001b[0;34m(tensors, grad_tensors, retain_graph, create_graph, grad_variables)\u001b[0m\n\u001b[1;32m     87\u001b[0m     Variable._execution_engine.run_backward(\n\u001b[1;32m     88\u001b[0m         \u001b[0mtensors\u001b[0m\u001b[0;34m,\u001b[0m \u001b[0mgrad_tensors\u001b[0m\u001b[0;34m,\u001b[0m \u001b[0mretain_graph\u001b[0m\u001b[0;34m,\u001b[0m \u001b[0mcreate_graph\u001b[0m\u001b[0;34m,\u001b[0m\u001b[0;34m\u001b[0m\u001b[0m\n\u001b[0;32m---> 89\u001b[0;31m         allow_unreachable=True)  # allow_unreachable flag\n\u001b[0m\u001b[1;32m     90\u001b[0m \u001b[0;34m\u001b[0m\u001b[0m\n\u001b[1;32m     91\u001b[0m \u001b[0;34m\u001b[0m\u001b[0m\n",
      "\u001b[0;31mKeyboardInterrupt\u001b[0m: "
     ]
    }
   ],
   "source": [
    "scores, reward_avg, scores_avg = ddpg_train(n_episodes=500, max_t=2000, print_every=50)"
   ]
  },
  {
   "cell_type": "code",
   "execution_count": 11,
   "metadata": {},
   "outputs": [
    {
     "data": {
      "text/plain": [
       "[<matplotlib.lines.Line2D at 0x7f8aaea072b0>]"
      ]
     },
     "execution_count": 11,
     "metadata": {},
     "output_type": "execute_result"
    },
    {
     "data": {
      "image/png": "[encoded data removed]",
      "text/plain": [
       "<matplotlib.figure.Figure at 0x7f8aae9eb0f0>"
      ]
     },
     "metadata": {
      "needs_background": "light"
     },
     "output_type": "display_data"
    }
   ],
   "source": [
    "fig = plt.figure()\n",
    "ax = fig.add_subplot(111)\n",
    "plt.plot(np.arange(1, len(scores)+1), scores)"
   ]
  },
  {
   "cell_type": "code",
   "execution_count": null,
   "metadata": {},
   "outputs": [],
   "source": []
  },
  {
   "cell_type": "code",
   "execution_count": null,
   "metadata": {},
   "outputs": [],
   "source": []
  },
  {
   "cell_type": "code",
   "execution_count": null,
   "metadata": {},
   "outputs": [],
   "source": []
  },
  {
   "cell_type": "code",
   "execution_count": null,
   "metadata": {},
   "outputs": [],
   "source": []
  },
  {
   "cell_type": "code",
   "execution_count": null,
   "metadata": {},
   "outputs": [],
   "source": [
    "fig = plt.figure()\n",
    "ax = fig.add_subplot(111)\n",
    "plt.plot(np.arange(1, len(scores)+1), scores)\n",
    "plt.ylabel('Score')\n",
    "plt.xlabel('Episode #')\n",
    "plt.show()"
   ]
  },
  {
   "cell_type": "code",
   "execution_count": null,
   "metadata": {},
   "outputs": [],
   "source": []
  },
  {
   "cell_type": "code",
   "execution_count": null,
   "metadata": {},
   "outputs": [],
   "source": []
  },
  {
   "cell_type": "code",
   "execution_count": null,
   "metadata": {},
   "outputs": [],
   "source": []
  },
  {
   "cell_type": "code",
   "execution_count": null,
   "metadata": {},
   "outputs": [],
   "source": []
  },
  {
   "cell_type": "code",
   "execution_count": null,
   "metadata": {},
   "outputs": [],
   "source": []
  },
  {
   "cell_type": "code",
   "execution_count": null,
   "metadata": {},
   "outputs": [],
   "source": []
  },
  {
   "cell_type": "code",
   "execution_count": null,
   "metadata": {},
   "outputs": [],
   "source": []
  },
  {
   "cell_type": "code",
   "execution_count": null,
   "metadata": {},
   "outputs": [],
   "source": []
  },
  {
   "cell_type": "code",
   "execution_count": null,
   "metadata": {},
   "outputs": [],
   "source": []
  },
  {
   "cell_type": "code",
   "execution_count": null,
   "metadata": {},
   "outputs": [],
   "source": []
  },
  {
   "cell_type": "code",
   "execution_count": null,
   "metadata": {},
   "outputs": [],
   "source": []
  },
  {
   "cell_type": "code",
   "execution_count": null,
   "metadata": {},
   "outputs": [],
   "source": []
  },
  {
   "cell_type": "code",
   "execution_count": null,
   "metadata": {},
   "outputs": [],
   "source": []
  },
  {
   "cell_type": "code",
   "execution_count": null,
   "metadata": {},
   "outputs": [],
   "source": []
  },
  {
   "cell_type": "code",
   "execution_count": null,
   "metadata": {},
   "outputs": [],
   "source": []
  },
  {
   "cell_type": "code",
   "execution_count": null,
   "metadata": {},
   "outputs": [],
   "source": []
  },
  {
   "cell_type": "code",
   "execution_count": null,
   "metadata": {},
   "outputs": [],
   "source": []
  }
 ],
 "metadata": {
  "kernelspec": {
   "display_name": "Python 3",
   "language": "python",
   "name": "python3"
  },
  "language_info": {
   "codemirror_mode": {
    "name": "ipython",
    "version": 3
   },
   "file_extension": ".py",
   "mimetype": "text/x-python",
   "name": "python",
   "nbconvert_exporter": "python",
   "pygments_lexer": "ipython3",
   "version": "3.6.3"
  }
 },
 "nbformat": 4,
 "nbformat_minor": 2
}
